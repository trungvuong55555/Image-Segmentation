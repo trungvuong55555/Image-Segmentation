{
  "nbformat": 4,
  "nbformat_minor": 0,
  "metadata": {
    "colab": {
      "name": "Unet_Brain.ipynb",
      "provenance": [],
      "collapsed_sections": []
    },
    "kernelspec": {
      "name": "python3",
      "display_name": "Python 3"
    },
    "language_info": {
      "name": "python"
    },
    "accelerator": "GPU"
  },
  "cells": [
    {
      "cell_type": "code",
      "metadata": {
        "colab": {
          "base_uri": "https://localhost:8080/"
        },
        "id": "GASfFTwTVAYc",
        "outputId": "3f6a549b-c269-4edb-86be-fde4ebd6ba8b"
      },
      "source": [
        "!nvidia-smi"
      ],
      "execution_count": null,
      "outputs": [
        {
          "output_type": "stream",
          "name": "stdout",
          "text": [
            "Sat Nov 20 12:54:00 2021       \n",
            "+-----------------------------------------------------------------------------+\n",
            "| NVIDIA-SMI 495.44       Driver Version: 460.32.03    CUDA Version: 11.2     |\n",
            "|-------------------------------+----------------------+----------------------+\n",
            "| GPU  Name        Persistence-M| Bus-Id        Disp.A | Volatile Uncorr. ECC |\n",
            "| Fan  Temp  Perf  Pwr:Usage/Cap|         Memory-Usage | GPU-Util  Compute M. |\n",
            "|                               |                      |               MIG M. |\n",
            "|===============================+======================+======================|\n",
            "|   0  Tesla K80           Off  | 00000000:00:04.0 Off |                    0 |\n",
            "| N/A   36C    P8    27W / 149W |      0MiB / 11441MiB |      0%      Default |\n",
            "|                               |                      |                  N/A |\n",
            "+-------------------------------+----------------------+----------------------+\n",
            "                                                                               \n",
            "+-----------------------------------------------------------------------------+\n",
            "| Processes:                                                                  |\n",
            "|  GPU   GI   CI        PID   Type   Process name                  GPU Memory |\n",
            "|        ID   ID                                                   Usage      |\n",
            "|=============================================================================|\n",
            "|  No running processes found                                                 |\n",
            "+-----------------------------------------------------------------------------+\n"
          ]
        }
      ]
    },
    {
      "cell_type": "markdown",
      "metadata": {
        "id": "JPM3X-EcAaeN"
      },
      "source": [
        "1,Load thư viện"
      ]
    },
    {
      "cell_type": "code",
      "metadata": {
        "id": "gqD35NWZWT5C"
      },
      "source": [
        "import os\n",
        "import random\n",
        "import pandas as pd\n",
        "import numpy as np\n",
        "import matplotlib.pyplot as plt\n",
        "%matplotlib inline\n",
        "from mpl_toolkits.axes_grid1 import ImageGrid\n",
        "\n",
        "import cv2\n",
        "from glob import glob\n",
        "\n",
        "import tensorflow as tf\n",
        "from tensorflow.keras import Input\n",
        "from tensorflow.keras.models import Model, load_model, save_model\n",
        "from tensorflow.keras.layers import Input, Activation, BatchNormalization, Dropout, Lambda, Conv2D\n",
        "from tensorflow.keras.layers import Conv2DTranspose, MaxPooling2D, concatenate, AveragePooling2D, Dense, Flatten\n",
        "from tensorflow.keras.optimizers import Adam\n",
        "from tensorflow.keras.callbacks import EarlyStopping, ModelCheckpoint, ReduceLROnPlateau\n",
        "\n",
        "from tensorflow.keras import backend as K\n",
        "from tensorflow.keras.preprocessing.image import ImageDataGenerator"
      ],
      "execution_count": null,
      "outputs": []
    },
    {
      "cell_type": "markdown",
      "metadata": {
        "id": "UzBsbqvtArms"
      },
      "source": [
        "2,data frame gán nhãn dữ liệu"
      ]
    },
    {
      "cell_type": "code",
      "metadata": {
        "id": "ZnGgWYszWsDR"
      },
      "source": [
        "# Set parameters\n",
        "IMAGE_SIZE = (256, 256)\n",
        "\n",
        "train_files = []\n",
        "mask_files = glob('/content/drive/MyDrive/kaggle_3m/*/*_mask*')\n",
        "for i in mask_files:\n",
        "    train_files.append(i.replace('_mask',''))"
      ],
      "execution_count": null,
      "outputs": []
    },
    {
      "cell_type": "code",
      "metadata": {
        "id": "a_cXE-IiWs08"
      },
      "source": [
        "df = pd.read_csv('/content/drive/MyDrive/kaggle_3m/infor_image.csv')"
      ],
      "execution_count": null,
      "outputs": []
    },
    {
      "cell_type": "code",
      "metadata": {
        "colab": {
          "base_uri": "https://localhost:8080/"
        },
        "id": "SEf0qg_nXLGL",
        "outputId": "a4d8b2d8-54bf-4ffc-d3e9-153f5e62d950"
      },
      "source": [
        "from sklearn.model_selection import train_test_split\n",
        "df_train, df_test = train_test_split(df, test_size=0.15)\n",
        "df_train, df_val = train_test_split(df_train, test_size=0.15)\n",
        "print(df_train.values.shape)\n",
        "print(df_val.values.shape)\n",
        "print(df_test.values.shape)"
      ],
      "execution_count": null,
      "outputs": [
        {
          "output_type": "stream",
          "name": "stdout",
          "text": [
            "(1417, 3)\n",
            "(251, 3)\n",
            "(295, 3)\n"
          ]
        }
      ]
    },
    {
      "cell_type": "markdown",
      "metadata": {
        "id": "YRvRNd-5Amai"
      },
      "source": [
        "3,Tạo thêm data"
      ]
    },
    {
      "cell_type": "code",
      "metadata": {
        "id": "J402LkltXMlY"
      },
      "source": [
        "def train_generator(data_frame, batch_size, aug_dict,\n",
        "        image_color_mode=\"rgb\",\n",
        "        mask_color_mode=\"grayscale\",\n",
        "        image_save_prefix=\"image\",\n",
        "        mask_save_prefix=\"mask\",\n",
        "        save_to_dir=None,\n",
        "        target_size=(256,256),\n",
        "        seed=1):\n",
        "\n",
        "    image_datagen = ImageDataGenerator(**aug_dict)\n",
        "    mask_datagen = ImageDataGenerator(**aug_dict)\n",
        "    \n",
        "    image_generator = image_datagen.flow_from_dataframe(\n",
        "        data_frame,\n",
        "        x_col = \"image_path\",\n",
        "        class_mode = None,\n",
        "        color_mode = image_color_mode,\n",
        "        target_size = target_size,\n",
        "        batch_size = batch_size,\n",
        "        save_to_dir = save_to_dir,\n",
        "        save_prefix  = image_save_prefix,\n",
        "        seed = seed)\n",
        "\n",
        "    mask_generator = mask_datagen.flow_from_dataframe(\n",
        "        data_frame,\n",
        "        x_col = \"mask_path\",\n",
        "        class_mode = None,\n",
        "        color_mode = mask_color_mode,\n",
        "        target_size = target_size,\n",
        "        batch_size = batch_size,\n",
        "        save_to_dir = save_to_dir,\n",
        "        save_prefix  = mask_save_prefix,\n",
        "        seed = seed)\n",
        "\n",
        "    train_gen = zip(image_generator, mask_generator)\n",
        "    \n",
        "    for (img, mask) in train_gen:\n",
        "        img, mask = adjust_data(img, mask)\n",
        "        yield (img,mask)\n",
        "\n",
        "def adjust_data(img,mask):\n",
        "    img = img / 255.\n",
        "    mask = mask / 255.\n",
        "    mask[mask > 0.5] = 1\n",
        "    mask[mask <= 0.5] = 0\n",
        "    \n",
        "    return (img, mask)"
      ],
      "execution_count": null,
      "outputs": []
    },
    {
      "cell_type": "code",
      "metadata": {
        "id": "uRWS5XdZXS7o"
      },
      "source": [
        "smooth=100\n",
        "\n",
        "def dice_coef(y_true, y_pred):\n",
        "    y_true = K.flatten(y_true)\n",
        "    y_pred = K.flatten(y_pred)\n",
        "    intersection = K.sum(y_true * y_pred)\n",
        "    union = K.sum(y_true) + K.sum(y_pred)\n",
        "    return (2.0 * intersection + smooth) / (union + smooth)\n",
        "\n",
        "def dice_coef_loss(y_true, y_pred):\n",
        "    return 1 - dice_coef(y_true, y_pred)\n",
        "\n",
        "def bce_dice_loss(y_true, y_pred):\n",
        "    bce = tf.keras.losses.BinaryCrossentropy(from_logits=True)\n",
        "    return dice_coef_loss(y_true, y_pred) + bce(y_true, y_pred)\n",
        "\n",
        "def iou(y_true, y_pred):\n",
        "    intersection = K.sum(y_true * y_pred)\n",
        "    sum_ = K.sum(y_true + y_pred)\n",
        "    jac = (intersection + smooth) / (sum_ - intersection + smooth)\n",
        "    return jac"
      ],
      "execution_count": null,
      "outputs": []
    },
    {
      "cell_type": "markdown",
      "metadata": {
        "id": "IvDDS_1ZAvoa"
      },
      "source": [
        "4, Định nghĩa model"
      ]
    },
    {
      "cell_type": "code",
      "metadata": {
        "id": "-n8DfHhTXTv5"
      },
      "source": [
        "def unet(input_size=(256,256,3)):\n",
        "    inputs = Input(input_size)\n",
        "    \n",
        "    conv1 = Conv2D(64, (3, 3), padding='same')(inputs)\n",
        "    bn1 = Activation('relu')(conv1)\n",
        "    conv1 = Conv2D(64, (3, 3), padding='same')(bn1)\n",
        "    bn1 = BatchNormalization(axis=3)(conv1)\n",
        "    bn1 = Activation('relu')(bn1)\n",
        "    pool1 = MaxPooling2D(pool_size=(2, 2))(bn1)\n",
        "\n",
        "    conv2 = Conv2D(128, (3, 3), padding='same')(pool1)\n",
        "    bn2 = Activation('relu')(conv2)\n",
        "    conv2 = Conv2D(128, (3, 3), padding='same')(bn2)\n",
        "    bn2 = BatchNormalization(axis=3)(conv2)\n",
        "    bn2 = Activation('relu')(bn2)\n",
        "    pool2 = MaxPooling2D(pool_size=(2, 2))(bn2)\n",
        "\n",
        "    conv3 = Conv2D(256, (3, 3), padding='same')(pool2)\n",
        "    bn3 = Activation('relu')(conv3)\n",
        "    conv3 = Conv2D(256, (3, 3), padding='same')(bn3)\n",
        "    bn3 = BatchNormalization(axis=3)(conv3)\n",
        "    bn3 = Activation('relu')(bn3)\n",
        "    pool3 = MaxPooling2D(pool_size=(2, 2))(bn3)\n",
        "\n",
        "    conv4 = Conv2D(512, (3, 3), padding='same')(pool3)\n",
        "    bn4 = Activation('relu')(conv4)\n",
        "    conv4 = Conv2D(512, (3, 3), padding='same')(bn4)\n",
        "    bn4 = BatchNormalization(axis=3)(conv4)\n",
        "    bn4 = Activation('relu')(bn4)\n",
        "    pool4 = MaxPooling2D(pool_size=(2, 2))(bn4)\n",
        "\n",
        "    conv5 = Conv2D(1024, (3, 3), padding='same')(pool4)\n",
        "    bn5 = Activation('relu')(conv5)\n",
        "    conv5 = Conv2D(1024, (3, 3), padding='same')(bn5)\n",
        "    bn5 = BatchNormalization(axis=3)(conv5)\n",
        "    bn5 = Activation('relu')(bn5)\n",
        "\n",
        "    up6 = concatenate([Conv2DTranspose(512, (2, 2), strides=(2, 2), padding='same')(bn5), conv4], axis=3)\n",
        "    conv6 = Conv2D(512, (3, 3), padding='same')(up6)\n",
        "    bn6 = Activation('relu')(conv6)\n",
        "    conv6 = Conv2D(512, (3, 3), padding='same')(bn6)\n",
        "    bn6 = BatchNormalization(axis=3)(conv6)\n",
        "    bn6 = Activation('relu')(bn6)\n",
        "\n",
        "    up7 = concatenate([Conv2DTranspose(256, (2, 2), strides=(2, 2), padding='same')(bn6), conv3], axis=3)\n",
        "    conv7 = Conv2D(256, (3, 3), padding='same')(up7)\n",
        "    bn7 = Activation('relu')(conv7)\n",
        "    conv7 = Conv2D(256, (3, 3), padding='same')(bn7)\n",
        "    bn7 = BatchNormalization(axis=3)(conv7)\n",
        "    bn7 = Activation('relu')(bn7)\n",
        "\n",
        "    up8 = concatenate([Conv2DTranspose(128, (2, 2), strides=(2, 2), padding='same')(bn7), conv2], axis=3)\n",
        "    conv8 = Conv2D(128, (3, 3), padding='same')(up8)\n",
        "    bn8 = Activation('relu')(conv8)\n",
        "    conv8 = Conv2D(128, (3, 3), padding='same')(bn8)\n",
        "    bn8 = BatchNormalization(axis=3)(conv8)\n",
        "    bn8 = Activation('relu')(bn8)\n",
        "\n",
        "    up9 = concatenate([Conv2DTranspose(64, (2, 2), strides=(2, 2), padding='same')(bn8), conv1], axis=3)\n",
        "    conv9 = Conv2D(64, (3, 3), padding='same')(up9)\n",
        "    bn9 = Activation('relu')(conv9)\n",
        "    conv9 = Conv2D(64, (3, 3), padding='same')(bn9)\n",
        "    bn9 = BatchNormalization(axis=3)(conv9)\n",
        "    bn9 = Activation('relu')(bn9)\n",
        "\n",
        "    conv10 = Conv2D(1, (1, 1), activation='sigmoid')(bn9)\n",
        "\n",
        "    return Model(inputs=[inputs], outputs=[conv10])"
      ],
      "execution_count": null,
      "outputs": []
    },
    {
      "cell_type": "code",
      "metadata": {
        "colab": {
          "base_uri": "https://localhost:8080/"
        },
        "id": "q5xfuVpEA6mR",
        "outputId": "8f40cda8-7708-4d5e-83a9-2e0c8800e69f"
      },
      "source": [
        "unet().summary()"
      ],
      "execution_count": null,
      "outputs": [
        {
          "output_type": "stream",
          "name": "stdout",
          "text": [
            "Model: \"model_1\"\n",
            "__________________________________________________________________________________________________\n",
            " Layer (type)                   Output Shape         Param #     Connected to                     \n",
            "==================================================================================================\n",
            " input_2 (InputLayer)           [(None, 256, 256, 3  0           []                               \n",
            "                                )]                                                                \n",
            "                                                                                                  \n",
            " conv2d_19 (Conv2D)             (None, 256, 256, 64  1792        ['input_2[0][0]']                \n",
            "                                )                                                                 \n",
            "                                                                                                  \n",
            " activation_18 (Activation)     (None, 256, 256, 64  0           ['conv2d_19[0][0]']              \n",
            "                                )                                                                 \n",
            "                                                                                                  \n",
            " conv2d_20 (Conv2D)             (None, 256, 256, 64  36928       ['activation_18[0][0]']          \n",
            "                                )                                                                 \n",
            "                                                                                                  \n",
            " batch_normalization_9 (BatchNo  (None, 256, 256, 64  256        ['conv2d_20[0][0]']              \n",
            " rmalization)                   )                                                                 \n",
            "                                                                                                  \n",
            " activation_19 (Activation)     (None, 256, 256, 64  0           ['batch_normalization_9[0][0]']  \n",
            "                                )                                                                 \n",
            "                                                                                                  \n",
            " max_pooling2d_4 (MaxPooling2D)  (None, 128, 128, 64  0          ['activation_19[0][0]']          \n",
            "                                )                                                                 \n",
            "                                                                                                  \n",
            " conv2d_21 (Conv2D)             (None, 128, 128, 12  73856       ['max_pooling2d_4[0][0]']        \n",
            "                                8)                                                                \n",
            "                                                                                                  \n",
            " activation_20 (Activation)     (None, 128, 128, 12  0           ['conv2d_21[0][0]']              \n",
            "                                8)                                                                \n",
            "                                                                                                  \n",
            " conv2d_22 (Conv2D)             (None, 128, 128, 12  147584      ['activation_20[0][0]']          \n",
            "                                8)                                                                \n",
            "                                                                                                  \n",
            " batch_normalization_10 (BatchN  (None, 128, 128, 12  512        ['conv2d_22[0][0]']              \n",
            " ormalization)                  8)                                                                \n",
            "                                                                                                  \n",
            " activation_21 (Activation)     (None, 128, 128, 12  0           ['batch_normalization_10[0][0]'] \n",
            "                                8)                                                                \n",
            "                                                                                                  \n",
            " max_pooling2d_5 (MaxPooling2D)  (None, 64, 64, 128)  0          ['activation_21[0][0]']          \n",
            "                                                                                                  \n",
            " conv2d_23 (Conv2D)             (None, 64, 64, 256)  295168      ['max_pooling2d_5[0][0]']        \n",
            "                                                                                                  \n",
            " activation_22 (Activation)     (None, 64, 64, 256)  0           ['conv2d_23[0][0]']              \n",
            "                                                                                                  \n",
            " conv2d_24 (Conv2D)             (None, 64, 64, 256)  590080      ['activation_22[0][0]']          \n",
            "                                                                                                  \n",
            " batch_normalization_11 (BatchN  (None, 64, 64, 256)  1024       ['conv2d_24[0][0]']              \n",
            " ormalization)                                                                                    \n",
            "                                                                                                  \n",
            " activation_23 (Activation)     (None, 64, 64, 256)  0           ['batch_normalization_11[0][0]'] \n",
            "                                                                                                  \n",
            " max_pooling2d_6 (MaxPooling2D)  (None, 32, 32, 256)  0          ['activation_23[0][0]']          \n",
            "                                                                                                  \n",
            " conv2d_25 (Conv2D)             (None, 32, 32, 512)  1180160     ['max_pooling2d_6[0][0]']        \n",
            "                                                                                                  \n",
            " activation_24 (Activation)     (None, 32, 32, 512)  0           ['conv2d_25[0][0]']              \n",
            "                                                                                                  \n",
            " conv2d_26 (Conv2D)             (None, 32, 32, 512)  2359808     ['activation_24[0][0]']          \n",
            "                                                                                                  \n",
            " batch_normalization_12 (BatchN  (None, 32, 32, 512)  2048       ['conv2d_26[0][0]']              \n",
            " ormalization)                                                                                    \n",
            "                                                                                                  \n",
            " activation_25 (Activation)     (None, 32, 32, 512)  0           ['batch_normalization_12[0][0]'] \n",
            "                                                                                                  \n",
            " max_pooling2d_7 (MaxPooling2D)  (None, 16, 16, 512)  0          ['activation_25[0][0]']          \n",
            "                                                                                                  \n",
            " conv2d_27 (Conv2D)             (None, 16, 16, 1024  4719616     ['max_pooling2d_7[0][0]']        \n",
            "                                )                                                                 \n",
            "                                                                                                  \n",
            " activation_26 (Activation)     (None, 16, 16, 1024  0           ['conv2d_27[0][0]']              \n",
            "                                )                                                                 \n",
            "                                                                                                  \n",
            " conv2d_28 (Conv2D)             (None, 16, 16, 1024  9438208     ['activation_26[0][0]']          \n",
            "                                )                                                                 \n",
            "                                                                                                  \n",
            " batch_normalization_13 (BatchN  (None, 16, 16, 1024  4096       ['conv2d_28[0][0]']              \n",
            " ormalization)                  )                                                                 \n",
            "                                                                                                  \n",
            " activation_27 (Activation)     (None, 16, 16, 1024  0           ['batch_normalization_13[0][0]'] \n",
            "                                )                                                                 \n",
            "                                                                                                  \n",
            " conv2d_transpose_4 (Conv2DTran  (None, 32, 32, 512)  2097664    ['activation_27[0][0]']          \n",
            " spose)                                                                                           \n",
            "                                                                                                  \n",
            " concatenate_4 (Concatenate)    (None, 32, 32, 1024  0           ['conv2d_transpose_4[0][0]',     \n",
            "                                )                                 'conv2d_26[0][0]']              \n",
            "                                                                                                  \n",
            " conv2d_29 (Conv2D)             (None, 32, 32, 512)  4719104     ['concatenate_4[0][0]']          \n",
            "                                                                                                  \n",
            " activation_28 (Activation)     (None, 32, 32, 512)  0           ['conv2d_29[0][0]']              \n",
            "                                                                                                  \n",
            " conv2d_30 (Conv2D)             (None, 32, 32, 512)  2359808     ['activation_28[0][0]']          \n",
            "                                                                                                  \n",
            " batch_normalization_14 (BatchN  (None, 32, 32, 512)  2048       ['conv2d_30[0][0]']              \n",
            " ormalization)                                                                                    \n",
            "                                                                                                  \n",
            " activation_29 (Activation)     (None, 32, 32, 512)  0           ['batch_normalization_14[0][0]'] \n",
            "                                                                                                  \n",
            " conv2d_transpose_5 (Conv2DTran  (None, 64, 64, 256)  524544     ['activation_29[0][0]']          \n",
            " spose)                                                                                           \n",
            "                                                                                                  \n",
            " concatenate_5 (Concatenate)    (None, 64, 64, 512)  0           ['conv2d_transpose_5[0][0]',     \n",
            "                                                                  'conv2d_24[0][0]']              \n",
            "                                                                                                  \n",
            " conv2d_31 (Conv2D)             (None, 64, 64, 256)  1179904     ['concatenate_5[0][0]']          \n",
            "                                                                                                  \n",
            " activation_30 (Activation)     (None, 64, 64, 256)  0           ['conv2d_31[0][0]']              \n",
            "                                                                                                  \n",
            " conv2d_32 (Conv2D)             (None, 64, 64, 256)  590080      ['activation_30[0][0]']          \n",
            "                                                                                                  \n",
            " batch_normalization_15 (BatchN  (None, 64, 64, 256)  1024       ['conv2d_32[0][0]']              \n",
            " ormalization)                                                                                    \n",
            "                                                                                                  \n",
            " activation_31 (Activation)     (None, 64, 64, 256)  0           ['batch_normalization_15[0][0]'] \n",
            "                                                                                                  \n",
            " conv2d_transpose_6 (Conv2DTran  (None, 128, 128, 12  131200     ['activation_31[0][0]']          \n",
            " spose)                         8)                                                                \n",
            "                                                                                                  \n",
            " concatenate_6 (Concatenate)    (None, 128, 128, 25  0           ['conv2d_transpose_6[0][0]',     \n",
            "                                6)                                'conv2d_22[0][0]']              \n",
            "                                                                                                  \n",
            " conv2d_33 (Conv2D)             (None, 128, 128, 12  295040      ['concatenate_6[0][0]']          \n",
            "                                8)                                                                \n",
            "                                                                                                  \n",
            " activation_32 (Activation)     (None, 128, 128, 12  0           ['conv2d_33[0][0]']              \n",
            "                                8)                                                                \n",
            "                                                                                                  \n",
            " conv2d_34 (Conv2D)             (None, 128, 128, 12  147584      ['activation_32[0][0]']          \n",
            "                                8)                                                                \n",
            "                                                                                                  \n",
            " batch_normalization_16 (BatchN  (None, 128, 128, 12  512        ['conv2d_34[0][0]']              \n",
            " ormalization)                  8)                                                                \n",
            "                                                                                                  \n",
            " activation_33 (Activation)     (None, 128, 128, 12  0           ['batch_normalization_16[0][0]'] \n",
            "                                8)                                                                \n",
            "                                                                                                  \n",
            " conv2d_transpose_7 (Conv2DTran  (None, 256, 256, 64  32832      ['activation_33[0][0]']          \n",
            " spose)                         )                                                                 \n",
            "                                                                                                  \n",
            " concatenate_7 (Concatenate)    (None, 256, 256, 12  0           ['conv2d_transpose_7[0][0]',     \n",
            "                                8)                                'conv2d_20[0][0]']              \n",
            "                                                                                                  \n",
            " conv2d_35 (Conv2D)             (None, 256, 256, 64  73792       ['concatenate_7[0][0]']          \n",
            "                                )                                                                 \n",
            "                                                                                                  \n",
            " activation_34 (Activation)     (None, 256, 256, 64  0           ['conv2d_35[0][0]']              \n",
            "                                )                                                                 \n",
            "                                                                                                  \n",
            " conv2d_36 (Conv2D)             (None, 256, 256, 64  36928       ['activation_34[0][0]']          \n",
            "                                )                                                                 \n",
            "                                                                                                  \n",
            " batch_normalization_17 (BatchN  (None, 256, 256, 64  256        ['conv2d_36[0][0]']              \n",
            " ormalization)                  )                                                                 \n",
            "                                                                                                  \n",
            " activation_35 (Activation)     (None, 256, 256, 64  0           ['batch_normalization_17[0][0]'] \n",
            "                                )                                                                 \n",
            "                                                                                                  \n",
            " conv2d_37 (Conv2D)             (None, 256, 256, 1)  65          ['activation_35[0][0]']          \n",
            "                                                                                                  \n",
            "==================================================================================================\n",
            "Total params: 31,043,521\n",
            "Trainable params: 31,037,633\n",
            "Non-trainable params: 5,888\n",
            "__________________________________________________________________________________________________\n"
          ]
        }
      ]
    },
    {
      "cell_type": "code",
      "metadata": {
        "id": "JpcWzqAzXYkJ"
      },
      "source": [
        "# Set parameters\n",
        "EPOCHS = 150\n",
        "BATCH_SIZE = 16\n",
        "learning_rate = 1e-4"
      ],
      "execution_count": null,
      "outputs": []
    },
    {
      "cell_type": "markdown",
      "metadata": {
        "id": "DljX7T_iA3SB"
      },
      "source": [
        "5,train model"
      ]
    },
    {
      "cell_type": "code",
      "metadata": {
        "colab": {
          "base_uri": "https://localhost:8080/"
        },
        "id": "T75B5K39XkN4",
        "outputId": "4c886629-d2f7-42b5-d408-ddb20d8923b4"
      },
      "source": [
        "train_generator_args = dict(rotation_range=0.1,\n",
        "                            width_shift_range=0.05,\n",
        "                            height_shift_range=0.05,\n",
        "                            shear_range=0.05,\n",
        "                            zoom_range=0.05,\n",
        "                            horizontal_flip=True,\n",
        "                            vertical_flip=True,\n",
        "                            fill_mode='nearest')\n",
        "train_gen = train_generator(df_train, BATCH_SIZE,\n",
        "                                train_generator_args,\n",
        "                                target_size=IMAGE_SIZE)\n",
        "    \n",
        "val_gen = train_generator(df_val, BATCH_SIZE,\n",
        "                                dict(),\n",
        "                                target_size=IMAGE_SIZE)\n",
        "    \n",
        "model = unet(input_size=(IMAGE_SIZE[0], IMAGE_SIZE[1], 3))\n",
        "\n",
        "\n",
        "\n",
        "opt = Adam(lr=learning_rate, beta_1=0.9, beta_2=0.999, epsilon=None, amsgrad=False)\n",
        "model.compile(optimizer=opt, loss=bce_dice_loss, metrics=[iou, dice_coef])\n",
        "\n",
        "callbacks = [ModelCheckpoint('unet_brainMRI_seg.hdf5', verbose=0, save_best_only=True),\n",
        "            ReduceLROnPlateau(monitor='val_loss', factor=0.1, patience=5, verbose=1, min_lr=1e-11),\n",
        "            EarlyStopping(monitor='val_loss', restore_best_weights=True, patience=15)]\n",
        "\n",
        "history = model.fit(train_gen,\n",
        "                    steps_per_epoch=len(df_train) / BATCH_SIZE, \n",
        "                    epochs=EPOCHS, \n",
        "                    callbacks=callbacks,\n",
        "                    validation_data = val_gen,\n",
        "                    validation_steps=len(df_val) / BATCH_SIZE)"
      ],
      "execution_count": null,
      "outputs": [
        {
          "output_type": "stream",
          "name": "stderr",
          "text": [
            "/usr/local/lib/python3.7/dist-packages/keras/optimizer_v2/adam.py:105: UserWarning: The `lr` argument is deprecated, use `learning_rate` instead.\n",
            "  super(Adam, self).__init__(name, **kwargs)\n"
          ]
        },
        {
          "output_type": "stream",
          "name": "stdout",
          "text": [
            "Found 1417 validated image filenames.\n",
            "Found 1417 validated image filenames.\n",
            "Epoch 1/150\n"
          ]
        },
        {
          "output_type": "stream",
          "name": "stderr",
          "text": [
            "/usr/local/lib/python3.7/dist-packages/tensorflow/python/util/dispatch.py:1096: UserWarning: \"`binary_crossentropy` received `from_logits=True`, but the `output` argument was produced by a sigmoid or softmax activation and thus does not represent logits. Was this intended?\"\n",
            "  return dispatch_target(*args, **kwargs)\n"
          ]
        },
        {
          "output_type": "stream",
          "name": "stdout",
          "text": [
            "89/88 [==============================] - ETA: -2s - loss: 1.2120 - iou: 0.0345 - dice_coef: 0.0655Found 251 validated image filenames.\n",
            "Found 251 validated image filenames.\n",
            "88/88 [==============================] - 627s 7s/step - loss: 1.2120 - iou: 0.0345 - dice_coef: 0.0655 - val_loss: 1.5502 - val_iou: 0.0122 - val_dice_coef: 0.0238 - lr: 1.0000e-04\n",
            "Epoch 2/150\n",
            "88/88 [==============================] - 131s 1s/step - loss: 1.0080 - iou: 0.0655 - dice_coef: 0.1208 - val_loss: 1.3139 - val_iou: 0.0129 - val_dice_coef: 0.0251 - lr: 1.0000e-04\n",
            "Epoch 3/150\n",
            "88/88 [==============================] - 131s 1s/step - loss: 0.9439 - iou: 0.0874 - dice_coef: 0.1572 - val_loss: 1.1346 - val_iou: 0.0137 - val_dice_coef: 0.0262 - lr: 1.0000e-04\n",
            "Epoch 4/150\n",
            "88/88 [==============================] - 131s 1s/step - loss: 0.9005 - iou: 0.1057 - dice_coef: 0.1869 - val_loss: 1.0001 - val_iou: 0.0615 - val_dice_coef: 0.1141 - lr: 1.0000e-04\n",
            "Epoch 5/150\n",
            "88/88 [==============================] - 131s 1s/step - loss: 0.8505 - iou: 0.1288 - dice_coef: 0.2227 - val_loss: 0.8755 - val_iou: 0.1099 - val_dice_coef: 0.1931 - lr: 1.0000e-04\n",
            "Epoch 6/150\n",
            "88/88 [==============================] - 130s 1s/step - loss: 0.8015 - iou: 0.1539 - dice_coef: 0.2608 - val_loss: 1.0989 - val_iou: 0.0755 - val_dice_coef: 0.1379 - lr: 1.0000e-04\n",
            "Epoch 7/150\n",
            "88/88 [==============================] - 131s 1s/step - loss: 0.7517 - iou: 0.1822 - dice_coef: 0.3002 - val_loss: 0.7442 - val_iou: 0.2050 - val_dice_coef: 0.3332 - lr: 1.0000e-04\n",
            "Epoch 8/150\n",
            "88/88 [==============================] - 131s 1s/step - loss: 0.6812 - iou: 0.2256 - dice_coef: 0.3608 - val_loss: 0.6148 - val_iou: 0.2721 - val_dice_coef: 0.4173 - lr: 1.0000e-04\n",
            "Epoch 9/150\n",
            "88/88 [==============================] - 129s 1s/step - loss: 0.6452 - iou: 0.2526 - dice_coef: 0.3935 - val_loss: 0.6206 - val_iou: 0.2609 - val_dice_coef: 0.4054 - lr: 1.0000e-04\n",
            "Epoch 10/150\n",
            "88/88 [==============================] - 131s 1s/step - loss: 0.6061 - iou: 0.2861 - dice_coef: 0.4283 - val_loss: 0.5353 - val_iou: 0.3408 - val_dice_coef: 0.4956 - lr: 1.0000e-04\n",
            "Epoch 11/150\n",
            "88/88 [==============================] - 130s 1s/step - loss: 0.5588 - iou: 0.3198 - dice_coef: 0.4736 - val_loss: 0.5401 - val_iou: 0.3285 - val_dice_coef: 0.4818 - lr: 1.0000e-04\n",
            "Epoch 12/150\n",
            "88/88 [==============================] - 131s 1s/step - loss: 0.5175 - iou: 0.3595 - dice_coef: 0.5133 - val_loss: 0.5283 - val_iou: 0.3571 - val_dice_coef: 0.5131 - lr: 1.0000e-04\n",
            "Epoch 13/150\n",
            "88/88 [==============================] - 131s 1s/step - loss: 0.4600 - iou: 0.4050 - dice_coef: 0.5643 - val_loss: 0.4108 - val_iou: 0.4531 - val_dice_coef: 0.6163 - lr: 1.0000e-04\n",
            "Epoch 14/150\n",
            "88/88 [==============================] - 131s 1s/step - loss: 0.4196 - iou: 0.4450 - dice_coef: 0.6040 - val_loss: 0.3823 - val_iou: 0.4766 - val_dice_coef: 0.6384 - lr: 1.0000e-04\n",
            "Epoch 15/150\n",
            "88/88 [==============================] - 131s 1s/step - loss: 0.4153 - iou: 0.4581 - dice_coef: 0.6115 - val_loss: 0.3600 - val_iou: 0.5016 - val_dice_coef: 0.6635 - lr: 1.0000e-04\n",
            "Epoch 16/150\n",
            "88/88 [==============================] - 129s 1s/step - loss: 0.4089 - iou: 0.4668 - dice_coef: 0.6171 - val_loss: 0.3993 - val_iou: 0.4724 - val_dice_coef: 0.6230 - lr: 1.0000e-04\n",
            "Epoch 17/150\n",
            "88/88 [==============================] - 129s 1s/step - loss: 0.3460 - iou: 0.5211 - dice_coef: 0.6744 - val_loss: 0.4999 - val_iou: 0.3786 - val_dice_coef: 0.5290 - lr: 1.0000e-04\n",
            "Epoch 18/150\n",
            "88/88 [==============================] - 129s 1s/step - loss: 0.3446 - iou: 0.5263 - dice_coef: 0.6786 - val_loss: 0.3807 - val_iou: 0.4947 - val_dice_coef: 0.6453 - lr: 1.0000e-04\n",
            "Epoch 19/150\n",
            "88/88 [==============================] - 131s 1s/step - loss: 0.3193 - iou: 0.5525 - dice_coef: 0.6984 - val_loss: 0.3032 - val_iou: 0.5756 - val_dice_coef: 0.7218 - lr: 1.0000e-04\n",
            "Epoch 20/150\n",
            "88/88 [==============================] - 131s 1s/step - loss: 0.2988 - iou: 0.5785 - dice_coef: 0.7219 - val_loss: 0.2936 - val_iou: 0.5896 - val_dice_coef: 0.7344 - lr: 1.0000e-04\n",
            "Epoch 21/150\n",
            "88/88 [==============================] - 131s 1s/step - loss: 0.2818 - iou: 0.5932 - dice_coef: 0.7371 - val_loss: 0.2920 - val_iou: 0.5922 - val_dice_coef: 0.7293 - lr: 1.0000e-04\n",
            "Epoch 22/150\n",
            "88/88 [==============================] - 129s 1s/step - loss: 0.2799 - iou: 0.6030 - dice_coef: 0.7402 - val_loss: 0.3119 - val_iou: 0.5629 - val_dice_coef: 0.7129 - lr: 1.0000e-04\n",
            "Epoch 23/150\n",
            "88/88 [==============================] - 129s 1s/step - loss: 0.2414 - iou: 0.6429 - dice_coef: 0.7749 - val_loss: 0.4375 - val_iou: 0.4376 - val_dice_coef: 0.5991 - lr: 1.0000e-04\n",
            "Epoch 24/150\n",
            "88/88 [==============================] - 131s 1s/step - loss: 0.2355 - iou: 0.6522 - dice_coef: 0.7814 - val_loss: 0.2340 - val_iou: 0.6531 - val_dice_coef: 0.7840 - lr: 1.0000e-04\n",
            "Epoch 25/150\n",
            "88/88 [==============================] - 131s 1s/step - loss: 0.2307 - iou: 0.6594 - dice_coef: 0.7861 - val_loss: 0.2015 - val_iou: 0.6919 - val_dice_coef: 0.8159 - lr: 1.0000e-04\n",
            "Epoch 26/150\n",
            "88/88 [==============================] - 130s 1s/step - loss: 0.2081 - iou: 0.6842 - dice_coef: 0.8048 - val_loss: 0.4641 - val_iou: 0.4216 - val_dice_coef: 0.5686 - lr: 1.0000e-04\n",
            "Epoch 27/150\n",
            "88/88 [==============================] - 131s 1s/step - loss: 0.2195 - iou: 0.6742 - dice_coef: 0.7972 - val_loss: 0.1700 - val_iou: 0.7355 - val_dice_coef: 0.8449 - lr: 1.0000e-04\n",
            "Epoch 28/150\n",
            "88/88 [==============================] - 130s 1s/step - loss: 0.1765 - iou: 0.7235 - dice_coef: 0.8359 - val_loss: 0.1832 - val_iou: 0.7154 - val_dice_coef: 0.8294 - lr: 1.0000e-04\n",
            "Epoch 29/150\n",
            "88/88 [==============================] - 130s 1s/step - loss: 0.1953 - iou: 0.7015 - dice_coef: 0.8173 - val_loss: 0.2103 - val_iou: 0.6836 - val_dice_coef: 0.8082 - lr: 1.0000e-04\n",
            "Epoch 30/150\n",
            "88/88 [==============================] - 129s 1s/step - loss: 0.2282 - iou: 0.6670 - dice_coef: 0.7905 - val_loss: 0.1960 - val_iou: 0.7022 - val_dice_coef: 0.8219 - lr: 1.0000e-04\n",
            "Epoch 31/150\n",
            "88/88 [==============================] - 129s 1s/step - loss: 0.1833 - iou: 0.7223 - dice_coef: 0.8305 - val_loss: 0.2557 - val_iou: 0.6433 - val_dice_coef: 0.7642 - lr: 1.0000e-04\n",
            "Epoch 32/150\n",
            "89/88 [==============================] - ETA: 0s - loss: 0.1876 - iou: 0.7150 - dice_coef: 0.8262\n",
            "Epoch 00032: ReduceLROnPlateau reducing learning rate to 9.999999747378752e-06.\n",
            "88/88 [==============================] - 130s 1s/step - loss: 0.1876 - iou: 0.7150 - dice_coef: 0.8262 - val_loss: 0.2007 - val_iou: 0.6926 - val_dice_coef: 0.8146 - lr: 1.0000e-04\n",
            "Epoch 33/150\n",
            "88/88 [==============================] - 130s 1s/step - loss: 0.1778 - iou: 0.7287 - dice_coef: 0.8350 - val_loss: 0.1706 - val_iou: 0.7351 - val_dice_coef: 0.8448 - lr: 1.0000e-05\n",
            "Epoch 34/150\n",
            "88/88 [==============================] - 131s 1s/step - loss: 0.1553 - iou: 0.7563 - dice_coef: 0.8562 - val_loss: 0.1435 - val_iou: 0.7707 - val_dice_coef: 0.8686 - lr: 1.0000e-05\n",
            "Epoch 35/150\n",
            "88/88 [==============================] - 130s 1s/step - loss: 0.1499 - iou: 0.7598 - dice_coef: 0.8573 - val_loss: 0.1479 - val_iou: 0.7619 - val_dice_coef: 0.8636 - lr: 1.0000e-05\n",
            "Epoch 36/150\n",
            "88/88 [==============================] - 130s 1s/step - loss: 0.1525 - iou: 0.7582 - dice_coef: 0.8589 - val_loss: 0.1509 - val_iou: 0.7639 - val_dice_coef: 0.8647 - lr: 1.0000e-05\n",
            "Epoch 37/150\n",
            "88/88 [==============================] - 130s 1s/step - loss: 0.1466 - iou: 0.7665 - dice_coef: 0.8643 - val_loss: 0.1514 - val_iou: 0.7596 - val_dice_coef: 0.8616 - lr: 1.0000e-05\n",
            "Epoch 38/150\n",
            "88/88 [==============================] - 131s 1s/step - loss: 0.1414 - iou: 0.7730 - dice_coef: 0.8693 - val_loss: 0.1414 - val_iou: 0.7747 - val_dice_coef: 0.8712 - lr: 1.0000e-05\n",
            "Epoch 39/150\n",
            "88/88 [==============================] - 131s 1s/step - loss: 0.1585 - iou: 0.7562 - dice_coef: 0.8521 - val_loss: 0.1335 - val_iou: 0.7821 - val_dice_coef: 0.8763 - lr: 1.0000e-05\n",
            "Epoch 40/150\n",
            "88/88 [==============================] - 130s 1s/step - loss: 0.1407 - iou: 0.7746 - dice_coef: 0.8695 - val_loss: 0.1508 - val_iou: 0.7621 - val_dice_coef: 0.8629 - lr: 1.0000e-05\n",
            "Epoch 41/150\n",
            "88/88 [==============================] - 130s 1s/step - loss: 0.1390 - iou: 0.7769 - dice_coef: 0.8715 - val_loss: 0.1464 - val_iou: 0.7683 - val_dice_coef: 0.8677 - lr: 1.0000e-05\n",
            "Epoch 42/150\n",
            "88/88 [==============================] - 130s 1s/step - loss: 0.1397 - iou: 0.7761 - dice_coef: 0.8707 - val_loss: 0.1514 - val_iou: 0.7567 - val_dice_coef: 0.8586 - lr: 1.0000e-05\n",
            "Epoch 43/150\n",
            "88/88 [==============================] - 130s 1s/step - loss: 0.1359 - iou: 0.7795 - dice_coef: 0.8736 - val_loss: 0.1416 - val_iou: 0.7772 - val_dice_coef: 0.8726 - lr: 1.0000e-05\n",
            "Epoch 44/150\n",
            "89/88 [==============================] - ETA: 0s - loss: 0.1349 - iou: 0.7811 - dice_coef: 0.8747\n",
            "Epoch 00044: ReduceLROnPlateau reducing learning rate to 9.999999747378752e-07.\n",
            "88/88 [==============================] - 130s 1s/step - loss: 0.1349 - iou: 0.7811 - dice_coef: 0.8747 - val_loss: 0.1484 - val_iou: 0.7628 - val_dice_coef: 0.8637 - lr: 1.0000e-05\n",
            "Epoch 45/150\n",
            "88/88 [==============================] - 130s 1s/step - loss: 0.1554 - iou: 0.7590 - dice_coef: 0.8510 - val_loss: 0.1426 - val_iou: 0.7710 - val_dice_coef: 0.8687 - lr: 1.0000e-06\n",
            "Epoch 46/150\n",
            "88/88 [==============================] - 130s 1s/step - loss: 0.1422 - iou: 0.7737 - dice_coef: 0.8671 - val_loss: 0.1457 - val_iou: 0.7681 - val_dice_coef: 0.8668 - lr: 1.0000e-06\n",
            "Epoch 47/150\n",
            "88/88 [==============================] - 130s 1s/step - loss: 0.1455 - iou: 0.7711 - dice_coef: 0.8644 - val_loss: 0.1544 - val_iou: 0.7613 - val_dice_coef: 0.8613 - lr: 1.0000e-06\n",
            "Epoch 48/150\n",
            "88/88 [==============================] - 130s 1s/step - loss: 0.1461 - iou: 0.7703 - dice_coef: 0.8625 - val_loss: 0.1450 - val_iou: 0.7712 - val_dice_coef: 0.8686 - lr: 1.0000e-06\n",
            "Epoch 49/150\n",
            "89/88 [==============================] - ETA: 0s - loss: 0.1323 - iou: 0.7861 - dice_coef: 0.8777\n",
            "Epoch 00049: ReduceLROnPlateau reducing learning rate to 9.999999974752428e-08.\n",
            "88/88 [==============================] - 129s 1s/step - loss: 0.1323 - iou: 0.7861 - dice_coef: 0.8777 - val_loss: 0.1507 - val_iou: 0.7602 - val_dice_coef: 0.8618 - lr: 1.0000e-06\n",
            "Epoch 50/150\n",
            "88/88 [==============================] - 129s 1s/step - loss: 0.1288 - iou: 0.7906 - dice_coef: 0.8810 - val_loss: 0.1844 - val_iou: 0.7375 - val_dice_coef: 0.8298 - lr: 1.0000e-07\n",
            "Epoch 51/150\n",
            "88/88 [==============================] - 129s 1s/step - loss: 0.1328 - iou: 0.7848 - dice_coef: 0.8769 - val_loss: 0.1491 - val_iou: 0.7656 - val_dice_coef: 0.8648 - lr: 1.0000e-07\n",
            "Epoch 52/150\n",
            "88/88 [==============================] - 129s 1s/step - loss: 0.1376 - iou: 0.7793 - dice_coef: 0.8723 - val_loss: 0.1431 - val_iou: 0.7734 - val_dice_coef: 0.8705 - lr: 1.0000e-07\n",
            "Epoch 53/150\n",
            "88/88 [==============================] - 129s 1s/step - loss: 0.1410 - iou: 0.7747 - dice_coef: 0.8692 - val_loss: 0.1514 - val_iou: 0.7658 - val_dice_coef: 0.8610 - lr: 1.0000e-07\n",
            "Epoch 54/150\n",
            "89/88 [==============================] - ETA: 0s - loss: 0.1322 - iou: 0.7864 - dice_coef: 0.8776\n",
            "Epoch 00054: ReduceLROnPlateau reducing learning rate to 1.0000000116860975e-08.\n",
            "88/88 [==============================] - 129s 1s/step - loss: 0.1322 - iou: 0.7864 - dice_coef: 0.8776 - val_loss: 0.1585 - val_iou: 0.7537 - val_dice_coef: 0.8558 - lr: 1.0000e-07\n"
          ]
        }
      ]
    },
    {
      "cell_type": "markdown",
      "metadata": {
        "id": "e77HTJhpBGNS"
      },
      "source": [
        "6,kiểm định model"
      ]
    },
    {
      "cell_type": "code",
      "metadata": {
        "colab": {
          "base_uri": "https://localhost:8080/",
          "height": 896
        },
        "id": "H_yAwWRXXlXZ",
        "outputId": "fe54098d-8a1c-4ddb-a423-3c02461653ca"
      },
      "source": [
        "plt.figure(figsize=(8,15))\n",
        "plt.subplot(3,1,1)\n",
        "plt.plot(model.history.history['loss'], 'b-', label='train_loss')\n",
        "plt.plot(model.history.history['val_loss'], 'r-', label='val_loss')\n",
        "plt.legend(loc='best')\n",
        "plt.title('Loss')\n",
        "\n",
        "plt.subplot(3,1,2)\n",
        "plt.plot(model.history.history['iou'], 'b-', label='train_iou')\n",
        "plt.plot(model.history.history['val_iou'], 'r-', label='val_iou')\n",
        "plt.legend(loc='best')\n",
        "plt.title('IoU')\n",
        "\n",
        "plt.subplot(3,1,3)\n",
        "plt.plot(model.history.history['dice_coef'], 'b-', label='train_dice_coef')\n",
        "plt.plot(model.history.history['val_dice_coef'], 'r-', label='val_dice_coef')\n",
        "plt.legend(loc='best')\n",
        "plt.title('Dice Coef')"
      ],
      "execution_count": null,
      "outputs": [
        {
          "output_type": "execute_result",
          "data": {
            "text/plain": [
              "Text(0.5, 1.0, 'Dice Coef')"
            ]
          },
          "metadata": {},
          "execution_count": 11
        },
        {
          "output_type": "display_data",
          "data": {
            "image/png": "[encoded data removed]",
            "text/plain": [
              "<Figure size 576x1080 with 3 Axes>"
            ]
          },
          "metadata": {
            "needs_background": "light"
          }
        }
      ]
    },
    {
      "cell_type": "code",
      "metadata": {
        "colab": {
          "base_uri": "https://localhost:8080/"
        },
        "id": "ZLOsVlfXYax-",
        "outputId": "8e268d73-44a1-4fdc-aef7-4fcc1caf8fae"
      },
      "source": [
        "test_gen = train_generator(df_test, BATCH_SIZE,\n",
        "                                dict(),\n",
        "                                target_size=IMAGE_SIZE)\n",
        "results = model.evaluate(test_gen, steps=len(df_test) / BATCH_SIZE)\n",
        "print(\"Test IOU: \",results[1])\n",
        "print(\"Test Dice Coefficent: \",results[2])"
      ],
      "execution_count": null,
      "outputs": [
        {
          "output_type": "stream",
          "name": "stdout",
          "text": [
            "Found 295 validated image filenames.\n",
            "Found 295 validated image filenames.\n",
            "18/18 [==============================] - 100s 6s/step - loss: 0.1554 - iou: 0.7564 - dice_coef: 0.8581\n",
            "Test IOU:  0.756422221660614\n",
            "Test Dice Coefficent:  0.858109712600708\n"
          ]
        }
      ]
    },
    {
      "cell_type": "markdown",
      "metadata": {
        "id": "vPdi_OMHBJXa"
      },
      "source": [
        "7, Lưu trọng số"
      ]
    },
    {
      "cell_type": "code",
      "metadata": {
        "id": "AuUVf6A-Z14q"
      },
      "source": [
        "history.model.save_weights(\"/content/drive/MyDrive/kaggle_3m/model.h5\")\n",
        "model_json = history.model.to_json()\n",
        "with open(\"/content/drive/MyDrive/kaggle_3m/model.json\", \"w\") as json_file:\n",
        "    json_file.write(model_json)"
      ],
      "execution_count": null,
      "outputs": []
    },
    {
      "cell_type": "code",
      "metadata": {
        "id": "IBBqVXPL8zvj"
      },
      "source": [
        "from keras.models import model_from_json\n",
        "json_file = open('/content/drive/MyDrive/kaggle_3m/model.json', 'r')\n",
        "loaded_model_json = json_file.read()\n",
        "json_file.close()\n",
        "clf = model_from_json(loaded_model_json)\n",
        "clf.load_weights(\"/content/drive/MyDrive/kaggle_3m/model.h5\")"
      ],
      "execution_count": null,
      "outputs": []
    },
    {
      "cell_type": "markdown",
      "metadata": {
        "id": "rPaThR-QBLsS"
      },
      "source": [
        "8, test dữ liệu"
      ]
    },
    {
      "cell_type": "code",
      "metadata": {
        "colab": {
          "base_uri": "https://localhost:8080/",
          "height": 1000
        },
        "id": "WdsiGcq__X26",
        "outputId": "3432c2f4-a7f7-4697-c505-64ec11fb145d"
      },
      "source": [
        "for i in range(30):\n",
        "    index=np.random.randint(1,len(df_test.index))\n",
        "    img = cv2.imread(df_test['image_path'].iloc[index])\n",
        "    img = cv2.resize(img ,IMAGE_SIZE)\n",
        "    img = img / 255\n",
        "    img = img[np.newaxis, :, :, :]\n",
        "    pred=clf.predict(img)\n",
        "\n",
        "    plt.figure(figsize=(12,12))\n",
        "    plt.subplot(1,3,1)\n",
        "    plt.imshow(np.squeeze(img))\n",
        "    plt.title('Original Image')\n",
        "    plt.subplot(1,3,2)\n",
        "    plt.imshow(np.squeeze(cv2.imread(df_test['mask_path'].iloc[index])))\n",
        "    plt.title('Original Mask')\n",
        "    plt.subplot(1,3,3)\n",
        "    plt.imshow(np.squeeze(pred) > .5)\n",
        "    plt.title('Prediction')\n",
        "    plt.show()"
      ],
      "execution_count": null,
      "outputs": []
    }
  ]
}